{
 "cells": [
  {
   "cell_type": "code",
   "execution_count": 1,
   "id": "b9ba70c9-1e20-4274-92e1-b8ae9ee0191a",
   "metadata": {},
   "outputs": [],
   "source": [
    "import cv2\n",
    "from utils import get_data_paths\n",
    "from processor import ImageProcessor"
   ]
  },
  {
   "cell_type": "code",
   "execution_count": 2,
   "id": "b86f9d56-c95f-4990-b454-4812b35c6b92",
   "metadata": {},
   "outputs": [],
   "source": [
    "paths = get_data_paths()"
   ]
  },
  {
   "cell_type": "code",
   "execution_count": 3,
   "id": "ce1038c5-a141-48fa-96ef-3dcb2cd8096d",
   "metadata": {},
   "outputs": [
    {
     "data": {
      "text/plain": [
       "['/home/kj1909/Documents/datasets/A. Segmentation/1. Original Images/a. Training Set/IDRiD_16.jpg',\n",
       " '/home/kj1909/Documents/datasets/A. Segmentation/1. Original Images/a. Training Set/IDRiD_18.jpg',\n",
       " '/home/kj1909/Documents/datasets/A. Segmentation/1. Original Images/a. Training Set/IDRiD_40.jpg',\n",
       " '/home/kj1909/Documents/datasets/A. Segmentation/1. Original Images/a. Training Set/IDRiD_50.jpg',\n",
       " '/home/kj1909/Documents/datasets/A. Segmentation/1. Original Images/a. Training Set/IDRiD_21.jpg']"
      ]
     },
     "execution_count": 3,
     "metadata": {},
     "output_type": "execute_result"
    }
   ],
   "source": [
    "paths[\"idrid\"][:5]"
   ]
  },
  {
   "cell_type": "code",
   "execution_count": 4,
   "id": "ec05fd88-e397-4f52-afbd-6194adc796a6",
   "metadata": {},
   "outputs": [],
   "source": [
    "img_processor = ImageProcessor()\n",
    "img = cv2.imread(paths[\"idrid\"][0])\n",
    "img = cv2.cvtColor(img, cv2.COLOR_BGR2RGB)"
   ]
  },
  {
   "cell_type": "code",
   "execution_count": 5,
   "id": "749b2807-271b-4fe9-b125-646ffb46e031",
   "metadata": {},
   "outputs": [
    {
     "name": "stdout",
     "output_type": "stream",
     "text": [
      "CPU times: user 1min 17s, sys: 23.3 s, total: 1min 40s\n",
      "Wall time: 1min 35s\n"
     ]
    }
   ],
   "source": [
    "%%time\n",
    "output = img_processor.run(img)"
   ]
  },
  {
   "cell_type": "code",
   "execution_count": 6,
   "id": "07c1094d-adaf-43b2-8e6e-f1d0e41eb7f8",
   "metadata": {},
   "outputs": [
    {
     "data": {
      "text/plain": [
       "[np.float64(28.92217187921321),\n",
       " np.float64(28.967580251809135),\n",
       " np.float64(28.524090028008242),\n",
       " np.float64(29.326052076312386),\n",
       " np.float64(28.883753139713725),\n",
       " np.float64(28.835741816244415)]"
      ]
     },
     "execution_count": 6,
     "metadata": {},
     "output_type": "execute_result"
    }
   ],
   "source": [
    "output[0]"
   ]
  },
  {
   "cell_type": "code",
   "execution_count": 20,
   "id": "988df6bd-15f3-443d-851e-e66cb2a3d358",
   "metadata": {},
   "outputs": [
    {
     "data": {
      "text/plain": [
       "([np.float64(28.92217187921321),\n",
       "  np.float64(28.967580251809135),\n",
       "  np.float64(28.524090028008242),\n",
       "  np.float64(29.326052076312386),\n",
       "  np.float64(28.883753139713725),\n",
       "  np.float64(28.835741816244415)],\n",
       " [np.float64(0.989015481205014),\n",
       "  np.float64(0.9931219313176207),\n",
       "  np.float64(0.9875604358200893),\n",
       "  np.float64(0.9941124346181529),\n",
       "  np.float64(0.989811300024436),\n",
       "  np.float64(0.9934027596713951)],\n",
       " [np.float64(0.7278692628514553),\n",
       "  np.float64(0.9871094016973181),\n",
       "  np.float64(0.7988231716889108),\n",
       "  np.float64(0.9188347979312252),\n",
       "  np.float64(0.9159234072269009),\n",
       "  np.float64(0.7244953307624916)],\n",
       " [np.float64(4.319244669035507),\n",
       "  np.float64(4.953195549144555),\n",
       "  np.float64(4.8857594803194075),\n",
       "  np.float64(4.665909099101338),\n",
       "  np.float64(5.055763311275427),\n",
       "  np.float64(4.160523886960075)],\n",
       " [np.float64(0.6397700604160954),\n",
       "  np.float64(0.8438425938105226),\n",
       "  np.float64(0.7085527581014113),\n",
       "  np.float64(0.8451661624772968),\n",
       "  np.float64(0.7447385054708535),\n",
       "  np.float64(0.6720361046545922)])"
      ]
     },
     "execution_count": 20,
     "metadata": {},
     "output_type": "execute_result"
    }
   ],
   "source": [
    "output"
   ]
  },
  {
   "cell_type": "code",
   "execution_count": null,
   "id": "c13faf3e-d3e0-4c1f-940c-72bc12d1b329",
   "metadata": {},
   "outputs": [],
   "source": []
  }
 ],
 "metadata": {
  "kernelspec": {
   "display_name": "Python 3 (ipykernel)",
   "language": "python",
   "name": "python3"
  },
  "language_info": {
   "codemirror_mode": {
    "name": "ipython",
    "version": 3
   },
   "file_extension": ".py",
   "mimetype": "text/x-python",
   "name": "python",
   "nbconvert_exporter": "python",
   "pygments_lexer": "ipython3",
   "version": "3.12.9"
  }
 },
 "nbformat": 4,
 "nbformat_minor": 5
}
