{
 "cells": [
  {
   "cell_type": "code",
   "execution_count": 1,
   "id": "e49bf4a9",
   "metadata": {},
   "outputs": [
    {
     "name": "stdout",
     "output_type": "stream",
     "text": [
      "The black module is not an IPython extension.\n"
     ]
    }
   ],
   "source": [
    "%load_ext black"
   ]
  },
  {
   "cell_type": "code",
   "execution_count": 3,
   "id": "d4445c44",
   "metadata": {},
   "outputs": [],
   "source": [
    "import sys\n",
    "import os\n",
    "import warnings\n",
    "from pprint import pprint\n",
    "\n",
    "sys.path.append(os.path.abspath(\"..\"))\n",
    "warnings.filterwarnings(\"ignore\")"
   ]
  },
  {
   "cell_type": "code",
   "execution_count": null,
   "id": "b9ba70c9-1e20-4274-92e1-b8ae9ee0191a",
   "metadata": {},
   "outputs": [],
   "source": [
    "\n",
    "from src import get_data_paths, ImageProcessor"
   ]
  },
  {
   "cell_type": "code",
   "execution_count": 6,
   "id": "b86f9d56-c95f-4990-b454-4812b35c6b92",
   "metadata": {},
   "outputs": [
    {
     "data": {
      "text/plain": [
       "dict_keys(['IDRiD', 'e_ophtha'])"
      ]
     },
     "execution_count": 6,
     "metadata": {},
     "output_type": "execute_result"
    }
   ],
   "source": [
    "paths = get_data_paths()\n",
    "paths.keys()"
   ]
  },
  {
   "cell_type": "code",
   "execution_count": 7,
   "id": "ce1038c5-a141-48fa-96ef-3dcb2cd8096d",
   "metadata": {},
   "outputs": [
    {
     "data": {
      "text/plain": [
       "['/mnt/d/MIT_projects/A. Segmentation/1. Original Images/a. Training Set/IDRiD_01.jpg',\n",
       " '/mnt/d/MIT_projects/A. Segmentation/1. Original Images/a. Training Set/IDRiD_02.jpg',\n",
       " '/mnt/d/MIT_projects/A. Segmentation/1. Original Images/a. Training Set/IDRiD_03.jpg',\n",
       " '/mnt/d/MIT_projects/A. Segmentation/1. Original Images/a. Training Set/IDRiD_04.jpg',\n",
       " '/mnt/d/MIT_projects/A. Segmentation/1. Original Images/a. Training Set/IDRiD_05.jpg']"
      ]
     },
     "execution_count": 7,
     "metadata": {},
     "output_type": "execute_result"
    }
   ],
   "source": [
    "paths[\"IDRiD\"][:5]"
   ]
  },
  {
   "cell_type": "code",
   "execution_count": 8,
   "id": "a1292368-188e-4ac9-879f-8f6e17a555e0",
   "metadata": {},
   "outputs": [
    {
     "data": {
      "text/plain": [
       "['/mnt/d/MIT_projects/e_ophtha_dataset-20230303T080518Z-001/e_ophtha_dataset/e_ophtha_EX/e_optha_EX/EX/E0000404/C0021833.jpg',\n",
       " '/mnt/d/MIT_projects/e_ophtha_dataset-20230303T080518Z-001/e_ophtha_dataset/e_ophtha_EX/e_optha_EX/EX/E0000404/C0021834.jpg',\n",
       " '/mnt/d/MIT_projects/e_ophtha_dataset-20230303T080518Z-001/e_ophtha_dataset/e_ophtha_EX/e_optha_EX/EX/E0000404/C0021835.jpg',\n",
       " '/mnt/d/MIT_projects/e_ophtha_dataset-20230303T080518Z-001/e_ophtha_dataset/e_ophtha_EX/e_optha_EX/EX/E0000404/C0021836.jpg',\n",
       " '/mnt/d/MIT_projects/e_ophtha_dataset-20230303T080518Z-001/e_ophtha_dataset/e_ophtha_EX/e_optha_EX/EX/E0004082/C0025307.jpg']"
      ]
     },
     "execution_count": 8,
     "metadata": {},
     "output_type": "execute_result"
    }
   ],
   "source": [
    "paths[\"e_ophtha\"][:5]"
   ]
  },
  {
   "cell_type": "code",
   "execution_count": 9,
   "id": "ec05fd88-e397-4f52-afbd-6194adc796a6",
   "metadata": {},
   "outputs": [
    {
     "name": "stdout",
     "output_type": "stream",
     "text": [
      "{'corr': [np.float64(0.8845660905757341),\n",
      "          np.float64(0.9481678134455179),\n",
      "          np.float64(0.8168046885931236),\n",
      "          np.float64(0.9273910402781844),\n",
      "          np.float64(0.9097286510024062),\n",
      "          np.float64(0.942365697722665)],\n",
      " 'epi': [np.float64(0.6481821810511195),\n",
      "         np.float64(0.8138713686088067),\n",
      "         np.float64(0.682254370096712),\n",
      "         np.float64(0.7788766877405155),\n",
      "         np.float64(0.769924682430883),\n",
      "         np.float64(0.667011821246002)],\n",
      " 'psnr': [np.float64(28.25507925654215),\n",
      "          np.float64(28.198279724489087),\n",
      "          np.float64(27.99292418124772),\n",
      "          np.float64(28.426200267090515),\n",
      "          np.float64(28.432071965772543),\n",
      "          np.float64(28.307415329064582)],\n",
      " 'ssim': [np.float64(0.21402152878748934),\n",
      "          np.float64(0.8789433731683594),\n",
      "          np.float64(0.29963034735363625),\n",
      "          np.float64(0.8142174069817664),\n",
      "          np.float64(0.6749783834199802),\n",
      "          np.float64(0.45567612074470554)]}\n"
     ]
    }
   ],
   "source": [
    "img_processor = ImageProcessor()\n",
    "img_processor.run(paths[\"IDRiD\"][0], \"gaussian\")\n",
    "pprint(img_processor.metrics)"
   ]
  }
 ],
 "metadata": {
  "kernelspec": {
   "display_name": "torch",
   "language": "python",
   "name": "python3"
  },
  "language_info": {
   "codemirror_mode": {
    "name": "ipython",
    "version": 3
   },
   "file_extension": ".py",
   "mimetype": "text/x-python",
   "name": "python",
   "nbconvert_exporter": "python",
   "pygments_lexer": "ipython3",
   "version": "3.12.9"
  }
 },
 "nbformat": 4,
 "nbformat_minor": 5
}
